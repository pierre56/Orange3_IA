{
 "cells": [
  {
   "cell_type": "code",
   "execution_count": 17,
   "metadata": {},
   "outputs": [],
   "source": [
    "#librairie pandas\n",
    "import pandas as pd\n",
    "#scikit-learn\n",
    "import sklearn\n",
    "#librairie numpy\n",
    "import numpy\n",
    "\n",
    "# Importer le dataset\n",
    "X = pandas.read_excel(\"exercice.xlsx\",sheet_name=0,header=0,index_col=0)"
   ]
  },
  {
   "cell_type": "code",
   "execution_count": 18,
   "metadata": {},
   "outputs": [
    {
     "name": "stdout",
     "output_type": "stream",
     "text": [
      "(18, 6)\n",
      "                  CYL  PUISS  LONG  LARG  POIDS  V_MAX\n",
      "Modele                                                \n",
      "Alfasud TI       1350     79   393   161    870    165\n",
      "Audi 100         1588     85   468   177   1110    160\n",
      "Simca 1300       1294     68   424   168   1050    152\n",
      "Citroen GS Club  1222     59   412   161    930    151\n",
      "Fiat 132         1585     98   439   164   1105    165\n",
      "Lancia Beta      1297     82   429   169   1080    160\n",
      "Peugeot 504      1796     79   449   169   1160    154\n",
      "Renault 16 TL    1565     55   424   163   1010    140\n",
      "Renanult 30      2664    128   452   173   1320    180\n",
      "Toyota Corrolla  1166     55   399   157    815    140\n",
      "Alfetta-1.66     1570    109   428   162   1060    175\n",
      "Princess-1800    1798     82   445   172   1160    158\n",
      "Datsun-200L      1998    115   469   169   1370    160\n",
      "Taunus-2000      1993     98   438   170   1080    167\n",
      "Rancho           1442     80   431   166   1129    144\n",
      "Mazda-9225       1769     83   440   165   1095    165\n",
      "Opel-Rekord      1979    100   459   173   1120    173\n",
      "Lada-1300        1294     68   404   161    955    140\n"
     ]
    }
   ],
   "source": [
    "#dimension\n",
    "print(X.shape) # (18, 6)\n",
    "#nombre d'observations\n",
    "n = X.shape[0]\n",
    "#nombre de variables\n",
    "p = X.shape[1]\n",
    "#affichage des données\n",
    "print(X)\n"
   ]
  },
  {
   "cell_type": "code",
   "execution_count": 19,
   "metadata": {},
   "outputs": [
    {
     "name": "stdout",
     "output_type": "stream",
     "text": [
      "[[-0.77509889 -0.28335818 -1.88508077 -1.09734528 -1.56900676  0.56976043]\n",
      " [-0.12016326  0.01963869  1.60580955  2.0010414   0.23416142  0.14597168]\n",
      " [-0.92920139 -0.83885242 -0.44217944  0.25819889 -0.21663062 -0.53209032]\n",
      " [-1.12733318 -1.29334771 -1.00072189 -1.09734528 -1.11821472 -0.61684807]\n",
      " [-0.12841875  0.67613189  0.25599862 -0.51639778  0.19659542  0.56976043]\n",
      " [-0.9209459  -0.13185975 -0.20945342  0.45184806  0.0087654   0.14597168]\n",
      " [ 0.45221746 -0.28335818  0.72145067  0.45184806  0.60982146 -0.36257482]\n",
      " [-0.18345536 -1.49534562 -0.44217944 -0.71004695 -0.51715865 -1.54918332]\n",
      " [ 2.84080623  2.19111619  0.86108628  1.22644473  1.81193359  1.84112668]\n",
      " [-1.28143568 -1.49534562 -1.60580955 -1.87194195 -1.98223281 -1.54918332]\n",
      " [-0.16969621  1.23162613 -0.25599862 -0.90369611 -0.14149861  1.41733793]\n",
      " [ 0.45772112 -0.13185975  0.53526985  1.03279556  0.60982146 -0.02354382]\n",
      " [ 1.0080872   1.53462299  1.65235475  0.45184806  2.18759363  0.14597168]\n",
      " [ 0.99432805  0.67613189  0.20945342  0.64549722  0.0087654   0.73927593]\n",
      " [-0.5219305  -0.2328587  -0.11636301 -0.12909944  0.37691224 -1.21015232]\n",
      " [ 0.37791804 -0.08136027  0.30254383 -0.32274861  0.12146341  0.56976043]\n",
      " [ 0.95580242  0.77713084  1.18690271  1.22644473  0.30929343  1.24782243]\n",
      " [-0.92920139 -0.83885242 -1.37308353 -1.09734528 -0.9303847  -1.54918332]]\n"
     ]
    },
    {
     "name": "stderr",
     "output_type": "stream",
     "text": [
      "C:\\Users\\aleleannec\\Anaconda3\\lib\\site-packages\\sklearn\\preprocessing\\data.py:625: DataConversionWarning: Data with input dtype int64 were all converted to float64 by StandardScaler.\n",
      "  return self.partial_fit(X, y)\n",
      "C:\\Users\\aleleannec\\Anaconda3\\lib\\site-packages\\sklearn\\base.py:462: DataConversionWarning: Data with input dtype int64 were all converted to float64 by StandardScaler.\n",
      "  return self.fit(X, **fit_params).transform(X)\n"
     ]
    }
   ],
   "source": [
    "#classe pour standardisation\n",
    "from sklearn.preprocessing import StandardScaler\n",
    "#instanciation\n",
    "sc = StandardScaler()\n",
    "#transformation des donneés => centrage-réduction\n",
    "Z = sc.fit_transform(X)\n",
    "print(Z)"
   ]
  },
  {
   "cell_type": "code",
   "execution_count": 20,
   "metadata": {},
   "outputs": [
    {
     "name": "stdout",
     "output_type": "stream",
     "text": [
      "[-2.22044605e-16 -1.41861831e-16  0.00000000e+00  1.86270752e-15\n",
      "  5.73615229e-16  5.55111512e-16]\n"
     ]
    }
   ],
   "source": [
    "#moyenne\n",
    "print(numpy.mean(Z,axis=0))\n"
   ]
  },
  {
   "cell_type": "code",
   "execution_count": 21,
   "metadata": {},
   "outputs": [
    {
     "name": "stdout",
     "output_type": "stream",
     "text": [
      "[1. 1. 1. 1. 1. 1.]\n"
     ]
    }
   ],
   "source": [
    "#écart-type\n",
    "print(numpy.std(Z,axis=0,ddof=0))"
   ]
  },
  {
   "cell_type": "code",
   "execution_count": 22,
   "metadata": {},
   "outputs": [],
   "source": [
    "#import pour l'ACP\n",
    "from sklearn.decomposition import PCA\n",
    "#instanciation\n",
    "acp = PCA(svd_solver='full')"
   ]
  },
  {
   "cell_type": "code",
   "execution_count": 23,
   "metadata": {},
   "outputs": [
    {
     "name": "stdout",
     "output_type": "stream",
     "text": [
      "PCA(copy=True, iterated_power='auto', n_components=None, random_state=None,\n",
      "  svd_solver='full', tol=0.0, whiten=False)\n"
     ]
    }
   ],
   "source": [
    "#affichage des paramètres\n",
    "print(acp)\n"
   ]
  },
  {
   "cell_type": "code",
   "execution_count": 24,
   "metadata": {},
   "outputs": [
    {
     "name": "stdout",
     "output_type": "stream",
     "text": [
      "6\n"
     ]
    }
   ],
   "source": [
    "#calculs\n",
    "coord = acp.fit_transform(Z)\n",
    "#nombre de composantes calculées\n",
    "print(acp.n_components_) # 6\n"
   ]
  },
  {
   "cell_type": "code",
   "execution_count": 69,
   "metadata": {},
   "outputs": [
    {
     "name": "stdout",
     "output_type": "stream",
     "text": [
      "[4.68090853 0.90641889 0.39501114 0.22650574 0.09826011 0.04583676]\n"
     ]
    }
   ],
   "source": [
    "#variance expliquée\n",
    "print(acp.explained_variance_)\n"
   ]
  },
  {
   "cell_type": "code",
   "execution_count": 70,
   "metadata": {},
   "outputs": [
    {
     "name": "stdout",
     "output_type": "stream",
     "text": [
      "[4.42085806 0.85606229 0.37306608 0.21392209 0.09280121 0.04329027]\n"
     ]
    }
   ],
   "source": [
    "#valeur corrigée\n",
    "eigval = (n-1)/n*acp.explained_variance_\n",
    "print(eigval)\n"
   ]
  },
  {
   "cell_type": "code",
   "execution_count": 71,
   "metadata": {},
   "outputs": [
    {
     "name": "stdout",
     "output_type": "stream",
     "text": [
      "[4.42085806 0.85606229 0.37306608 0.21392209 0.09280121 0.04329027]\n"
     ]
    }
   ],
   "source": [
    "#ou bien en passant par les valeurs singulières\n",
    "print(acp.singular_values_**2/n)\n"
   ]
  },
  {
   "cell_type": "code",
   "execution_count": 72,
   "metadata": {},
   "outputs": [
    {
     "name": "stdout",
     "output_type": "stream",
     "text": [
      "[0.73680968 0.14267705 0.06217768 0.03565368 0.01546687 0.00721505]\n"
     ]
    }
   ],
   "source": [
    "#proportion de variance expliquée\n",
    "print(acp.explained_variance_ratio_)\n",
    "\n",
    "# la première composante totalise à elle seule 74% de l'information disponible ==> existence d'un effet taille"
   ]
  },
  {
   "cell_type": "code",
   "execution_count": 73,
   "metadata": {},
   "outputs": [
    {
     "data": {
      "image/png": "[encoded data removed]",
      "text/plain": [
       "<Figure size 432x288 with 1 Axes>"
      ]
     },
     "metadata": {
      "needs_background": "light"
     },
     "output_type": "display_data"
    }
   ],
   "source": [
    "import matplotlib.pyplot as plt\n",
    "\n",
    "#scree plot => Valeurs Propres\n",
    "plt.plot(numpy.arange(1,p+1),eigval)\n",
    "plt.title(\"Scree plot\")\n",
    "plt.ylabel(\"Eigen values\")\n",
    "plt.xlabel(\"Factor number\")\n",
    "plt.show()\n"
   ]
  },
  {
   "cell_type": "code",
   "execution_count": 74,
   "metadata": {},
   "outputs": [
    {
     "data": {
      "image/png": "[encoded data removed]",
      "text/plain": [
       "<Figure size 432x288 with 1 Axes>"
      ]
     },
     "metadata": {
      "needs_background": "light"
     },
     "output_type": "display_data"
    }
   ],
   "source": [
    "#cumul de variance expliquée\n",
    "plt.plot(numpy.arange(1,p+1),numpy.cumsum(acp.explained_variance_ratio_))\n",
    "plt.title(\"Explained variance vs. # of factors\")\n",
    "plt.ylabel(\"Cumsum explained variance ratio\")\n",
    "plt.xlabel(\"Factor number\")\n",
    "plt.show()\n"
   ]
  },
  {
   "cell_type": "code",
   "execution_count": 75,
   "metadata": {},
   "outputs": [],
   "source": [
    "#seuils pour test des bâtons brisés\n",
    "bs = 1/numpy.arange(p,0,-1)\n",
    "bs = numpy.cumsum(bs)\n",
    "bs = bs[::-1]\n"
   ]
  },
  {
   "cell_type": "code",
   "execution_count": 76,
   "metadata": {},
   "outputs": [
    {
     "name": "stdout",
     "output_type": "stream",
     "text": [
      "   Val.Propre    Seuils\n",
      "0    4.420858  2.450000\n",
      "1    0.856062  1.450000\n",
      "2    0.373066  0.950000\n",
      "3    0.213922  0.616667\n",
      "4    0.092801  0.366667\n",
      "5    0.043290  0.166667\n"
     ]
    }
   ],
   "source": [
    "#test des bâtons brisés\n",
    "print(pandas.DataFrame({'Val.Propre':eigval,'Seuils':bs}))\n"
   ]
  },
  {
   "cell_type": "code",
   "execution_count": 77,
   "metadata": {},
   "outputs": [
    {
     "data": {
      "image/png": "[encoded data removed]",
      "text/plain": [
       "<Figure size 864x864 with 1 Axes>"
      ]
     },
     "metadata": {
      "needs_background": "light"
     },
     "output_type": "display_data"
    }
   ],
   "source": [
    "#positionnement des individus dans le premier plan\n",
    "fig, axes = plt.subplots(figsize=(12,12))\n",
    "axes.set_xlim(-6,6) #même limites en abscisse\n",
    "axes.set_ylim(-6,6) #et en ordonnée\n",
    "#placement des étiquettes des observations\n",
    "for i in range(n):\n",
    "    plt.annotate(X.index[i],(coord[i,0],coord[i,1]))\n",
    "#ajouter les axes\n",
    "plt.plot([-6,6],[0,0],color='silver',linestyle='-',linewidth=1)\n",
    "plt.plot([0,0],[-6,6],color='silver',linestyle='-',linewidth=1)\n",
    "#affichage\n",
    "plt.show()\n"
   ]
  },
  {
   "cell_type": "code",
   "execution_count": 78,
   "metadata": {},
   "outputs": [
    {
     "name": "stdout",
     "output_type": "stream",
     "text": [
      "                 ID        d_i\n",
      "0        Alfasud TI   8.225176\n",
      "1          Audi 100   6.673755\n",
      "2        Simca 1300   2.159327\n",
      "3   Citroen GS Club   6.780145\n",
      "4          Fiat 132   1.169124\n",
      "5       Lancia Beta   1.134950\n",
      "6       Peugeot 504   1.512793\n",
      "7     Renault 16 TL   5.636826\n",
      "8       Renanult 30  21.789657\n",
      "9   Toyota Corrolla  16.290143\n",
      "10     Alfetta-1.66   4.456770\n",
      "11    Princess-1800   1.952513\n",
      "12      Datsun-200L  11.112624\n",
      "13      Taunus-2000   2.452986\n",
      "14           Rancho   1.963373\n",
      "15       Mazda-9225   0.684521\n",
      "16      Opel-Rekord   6.083119\n",
      "17        Lada-1300   7.922198\n"
     ]
    }
   ],
   "source": [
    "#contribution des individus dans l'inertie totale\n",
    "di = numpy.sum(Z**2,axis=1)\n",
    "print(pandas.DataFrame({'ID':X.index,'d_i':di}))\n"
   ]
  },
  {
   "cell_type": "code",
   "execution_count": 79,
   "metadata": {},
   "outputs": [
    {
     "name": "stdout",
     "output_type": "stream",
     "text": [
      "                 id    COS2_1    COS2_2\n",
      "0        Alfasud TI  0.556218  0.387670\n",
      "1          Audi 100  0.365334  0.349406\n",
      "2        Simca 1300  0.580284  0.210694\n",
      "3   Citroen GS Club  0.976992  0.001879\n",
      "4          Fiat 132  0.156579  0.413826\n",
      "5       Lancia Beta  0.081555  0.033900\n",
      "6       Peugeot 504  0.309202  0.575488\n",
      "7     Renault 16 TL  0.673539  0.170535\n",
      "8       Renanult 30  0.892431  0.051920\n",
      "9   Toyota Corrolla  0.975219  0.003426\n",
      "10     Alfetta-1.66  0.042978  0.820652\n",
      "11    Princess-1800  0.530947  0.362855\n",
      "12      Datsun-200L  0.778390  0.028137\n",
      "13      Taunus-2000  0.704819  0.096496\n",
      "14           Rancho  0.243273  0.410469\n",
      "15       Mazda-9225  0.217336  0.185337\n",
      "16      Opel-Rekord  0.861900  0.001790\n",
      "17        Lada-1300  0.926052  0.002607\n"
     ]
    }
   ],
   "source": [
    "#qualité de représentation des individus - COS2\n",
    "cos2 = coord**2\n",
    "for j in range(p):\n",
    "    cos2[:,j] = cos2[:,j]/di\n",
    "print(pandas.DataFrame({'id':X.index,'COS2_1':cos2[:,0],'COS2_2':cos2[:,1]}))"
   ]
  },
  {
   "cell_type": "code",
   "execution_count": 39,
   "metadata": {},
   "outputs": [
    {
     "name": "stdout",
     "output_type": "stream",
     "text": [
      "[1. 1. 1. 1. 1. 1. 1. 1. 1. 1. 1. 1. 1. 1. 1. 1. 1. 1.]\n"
     ]
    }
   ],
   "source": [
    "#vérifions la théorie - somme en ligne des cos2 = 1\n",
    "print(numpy.sum(cos2,axis=1))\n"
   ]
  },
  {
   "cell_type": "code",
   "execution_count": 80,
   "metadata": {},
   "outputs": [
    {
     "name": "stdout",
     "output_type": "stream",
     "text": [
      "                 id     CTR_1     CTR_2\n",
      "0        Alfasud TI  0.057493  0.206933\n",
      "1          Audi 100  0.030640  0.151329\n",
      "2        Simca 1300  0.015746  0.029525\n",
      "3   Citroen GS Club  0.083244  0.000827\n",
      "4          Fiat 132  0.002300  0.031398\n",
      "5       Lancia Beta  0.001163  0.002497\n",
      "6       Peugeot 504  0.005878  0.056499\n",
      "7     Renault 16 TL  0.047711  0.062384\n",
      "8       Renanult 30  0.244369  0.073419\n",
      "9   Toyota Corrolla  0.199640  0.003622\n",
      "10     Alfetta-1.66  0.002407  0.237357\n",
      "11    Princess-1800  0.013028  0.045978\n",
      "12      Datsun-200L  0.108701  0.020292\n",
      "13      Taunus-2000  0.021727  0.015361\n",
      "14           Rancho  0.006002  0.052300\n",
      "15       Mazda-9225  0.001870  0.008233\n",
      "16      Opel-Rekord  0.065888  0.000707\n",
      "17        Lada-1300  0.092194  0.001340\n"
     ]
    }
   ],
   "source": [
    "#contributions aux axes\n",
    "ctr = coord**2\n",
    "for j in range(p):\n",
    "    ctr[:,j] = ctr[:,j]/(n*eigval[j])\n",
    "\n",
    "print(pandas.DataFrame({'id':X.index,'CTR_1':ctr[:,0],'CTR_2':ctr[:,1]}))"
   ]
  },
  {
   "cell_type": "code",
   "execution_count": 42,
   "metadata": {},
   "outputs": [
    {
     "name": "stdout",
     "output_type": "stream",
     "text": [
      "[1. 1. 1. 1. 1. 1.]\n"
     ]
    }
   ],
   "source": [
    "#vérifions la théorie\n",
    "print(numpy.sum(ctr,axis=0))\n"
   ]
  },
  {
   "cell_type": "code",
   "execution_count": 43,
   "metadata": {},
   "outputs": [
    {
     "name": "stdout",
     "output_type": "stream",
     "text": [
      "[[ 0.42493602  0.42179441  0.42145993  0.38692224  0.43051198  0.35894427]\n",
      " [ 0.12419108  0.41577389 -0.41181773 -0.446087   -0.24267581  0.6198626 ]\n",
      " [-0.35361252 -0.18492049  0.06763394  0.60486812 -0.48439601  0.48547226]\n",
      " [ 0.80778648 -0.35779199 -0.27975231  0.21156941 -0.30171136 -0.0735743 ]\n",
      " [ 0.15158003 -0.29373465  0.73056903 -0.47819008 -0.30455842  0.18865511]\n",
      " [-0.05889517 -0.63303302 -0.19029153 -0.10956624  0.5808122   0.45852167]]\n"
     ]
    }
   ],
   "source": [
    "#le champ components_ de l'objet ACP\n",
    "print(acp.components_)\n"
   ]
  },
  {
   "cell_type": "code",
   "execution_count": 67,
   "metadata": {},
   "outputs": [
    {
     "name": "stdout",
     "output_type": "stream",
     "text": [
      "[[ 0.89346354  0.1149061  -0.21598347  0.37361508  0.04617627 -0.01225391]\n",
      " [ 0.88685803  0.38468911 -0.11294784 -0.16548492 -0.08948124 -0.13171084]\n",
      " [ 0.88615477 -0.38102873  0.04131023 -0.12939024  0.22255537 -0.03959265]\n",
      " [ 0.81353638 -0.4127359   0.36944822  0.09785447 -0.14567244 -0.0227967 ]\n",
      " [ 0.90518746 -0.22453248 -0.29586489 -0.13954667 -0.09277852  0.12084561]\n",
      " [ 0.75471037  0.57351941  0.29652226 -0.03402937  0.05747056  0.09540146]]\n"
     ]
    }
   ],
   "source": [
    "#racine carrée des valeurs propres\n",
    "sqrt_eigval = numpy.sqrt(eigval)\n",
    "\n",
    "#corrélation des variables avec les axes\n",
    "corvar = numpy.zeros((p,p))\n",
    "for k in range(p):\n",
    "    corvar[:,k] = acp.components_[k,:] * sqrt_eigval[k]\n",
    "\n",
    "#afficher la matrice des corrélations variables x facteurs\n",
    "print(corvar)\n"
   ]
  },
  {
   "cell_type": "code",
   "execution_count": 81,
   "metadata": {},
   "outputs": [
    {
     "data": {
      "image/png": "[encoded data removed]",
      "text/plain": [
       "<Figure size 576x576 with 1 Axes>"
      ]
     },
     "metadata": {
      "needs_background": "light"
     },
     "output_type": "display_data"
    }
   ],
   "source": [
    "#cercle des corrélations\n",
    "fig, axes = plt.subplots(figsize=(8,8))\n",
    "axes.set_xlim(-1,1)\n",
    "axes.set_ylim(-1,1)\n",
    "#affichage des étiquettes (noms des variables)\n",
    "for j in range(p):\n",
    "    plt.annotate(X.columns[j],(corvar[j,0],corvar[j,1]))\n",
    "\n",
    "#ajouter les axes\n",
    "plt.plot([-1,1],[0,0],color='silver',linestyle='-',linewidth=1)\n",
    "plt.plot([0,0],[-1,1],color='silver',linestyle='-',linewidth=1)\n",
    "\n",
    "#ajouter un cercle\n",
    "cercle = plt.Circle((0,0),1,color='blue',fill=False)\n",
    "axes.add_artist(cercle)\n",
    "#affichage\n",
    "plt.show()\n",
    "\n",
    "# effet taille"
   ]
  },
  {
   "cell_type": "code",
   "execution_count": 82,
   "metadata": {},
   "outputs": [
    {
     "name": "stdout",
     "output_type": "stream",
     "text": [
      "      id    COS2_1    COS2_2\n",
      "0    CYL  0.798277  0.013203\n",
      "1  PUISS  0.786517  0.147986\n",
      "2   LONG  0.785270  0.145183\n",
      "3   LARG  0.661841  0.170351\n",
      "4  POIDS  0.819364  0.050415\n",
      "5  V_MAX  0.569588  0.328925\n"
     ]
    }
   ],
   "source": [
    "#cosinus carré des variables\n",
    "cos2var = corvar**2\n",
    "print(pandas.DataFrame({'id':X.columns,'COS2_1':cos2var[:,0],'COS2_2':cos2var[:,1]}))"
   ]
  },
  {
   "cell_type": "code",
   "execution_count": 66,
   "metadata": {},
   "outputs": [
    {
     "name": "stdout",
     "output_type": "stream",
     "text": [
      "      id     CTR_1     CTR_2\n",
      "0    CYL  0.040845  0.018017\n",
      "1  PUISS  0.040243  0.201934\n",
      "2   LONG  0.040180  0.198109\n",
      "3   LARG  0.033864  0.232452\n",
      "4  POIDS  0.041924  0.068794\n",
      "5  V_MAX  0.029144  0.448834\n"
     ]
    }
   ],
   "source": [
    "#contributions\n",
    "ctrvar = cos2var\n",
    "for k in range(p):\n",
    "    ctrvar[:,k] = ctrvar[:,k]/eigval[k]\n",
    "#on n'affiche que pour les deux premiers axes\n",
    "print(pandas.DataFrame({'id':X.columns,'CTR_1':ctrvar[:,0],'CTR_2':ctrvar[:,1]}))"
   ]
  },
  {
   "cell_type": "code",
   "execution_count": 51,
   "metadata": {},
   "outputs": [
    {
     "name": "stdout",
     "output_type": "stream",
     "text": [
      "                CYL  PUISS  LONG  LARG  POIDS  V_MAX\n",
      "Modele                                              \n",
      "Peugeot 604    2664    136   472   177   1410    180\n",
      "Peugeot 304 S  1288     74   414   157    915    160\n"
     ]
    }
   ],
   "source": [
    "#chargement des individus supplémentaires\n",
    "indSupp = pandas.read_excel(\"exercice.xlsx\",sheet_name=1,header=0,index_col=0)\n",
    "print(indSupp)\n"
   ]
  },
  {
   "cell_type": "code",
   "execution_count": 52,
   "metadata": {},
   "outputs": [
    {
     "name": "stdout",
     "output_type": "stream",
     "text": [
      "[[ 2.84080623  2.59511201  1.79199036  2.0010414   2.48812166  1.84112668]\n",
      " [-0.94571238 -0.53585556 -0.90763148 -1.87194195 -1.23091273  0.14597168]]\n"
     ]
    },
    {
     "name": "stderr",
     "output_type": "stream",
     "text": [
      "C:\\Users\\aleleannec\\Anaconda3\\lib\\site-packages\\ipykernel_launcher.py:2: DataConversionWarning: Data with input dtype int64 were all converted to float64 by StandardScaler.\n",
      "  \n"
     ]
    }
   ],
   "source": [
    "#centrage-réduction avec les paramètres des individus actifs\n",
    "ZIndSupp = sc.transform(indSupp)\n",
    "print(ZIndSupp)\n"
   ]
  },
  {
   "cell_type": "code",
   "execution_count": 83,
   "metadata": {},
   "outputs": [
    {
     "name": "stdout",
     "output_type": "stream",
     "text": [
      "[[ 5.56329226  0.33860928 -0.46428878  0.40214608 -0.38981076 -0.08102064]\n",
      " [-2.21224139  1.25777905 -0.09304388 -0.35370189  0.648528    0.12473042]]\n"
     ]
    }
   ],
   "source": [
    "#projection dans l'espace factoriel\n",
    "coordSupp = acp.transform(ZIndSupp)\n",
    "print(coordSupp)\n"
   ]
  },
  {
   "cell_type": "code",
   "execution_count": 84,
   "metadata": {},
   "outputs": [
    {
     "data": {
      "image/png": "[encoded data removed]",
      "text/plain": [
       "<Figure size 864x864 with 1 Axes>"
      ]
     },
     "metadata": {
      "needs_background": "light"
     },
     "output_type": "display_data"
    }
   ],
   "source": [
    "#positionnement des individus supplémentaires dans le premier plan\n",
    "fig, axes = plt.subplots(figsize=(12,12))\n",
    "axes.set_xlim(-6,6)\n",
    "axes.set_ylim(-6,6)\n",
    "#étiquette des points actifs\n",
    "for i in range(n):\n",
    "    plt.annotate(X.index[i],(coord[i,0],coord[i,1]))\n",
    "\n",
    "#étiquette des points supplémentaires (illustratifs) en bleu ‘b’\n",
    "for i in range(coordSupp.shape[0]):\n",
    "    plt.annotate(indSupp.index[i],(coordSupp[i,0],coordSupp[i,1]),color='b')\n",
    "\n",
    "#ajouter les axes\n",
    "plt.plot([-6,6],[0,0],color='silver',linestyle='-',linewidth=1)\n",
    "plt.plot([0,0],[-6,6],color='silver',linestyle='-',linewidth=1)\n",
    "#affichage\n",
    "plt.show()"
   ]
  },
  {
   "cell_type": "code",
   "execution_count": 85,
   "metadata": {},
   "outputs": [
    {
     "name": "stdout",
     "output_type": "stream",
     "text": [
      "                  Prix  R_Poids_Puis Finition\n",
      "Modele                                       \n",
      "Alfa             30570        11.013      2_B\n",
      "Audi100          39990        13.059     3_TB\n",
      "Simca1300        29600        15.441      1_M\n",
      "Citroen GS Club  28250        15.763      1_M\n",
      "Fiat 132         34900        11.276      2_B\n",
      "Lancia Beta      35480        13.171     3_TB\n",
      "Peugeot 504      32300        14.684      2_B\n",
      "Renault 16 TL    32000        18.364      2_B\n",
      "Renault 30       47700        10.313     3_TB\n",
      "Tooyta Corolla   26540        14.818      1_M\n",
      "Alfetta-1.66     42395         9.725     3_TB\n",
      "Princess-1800    33990        14.146      2_B\n",
      "Datsun-200L      43980        11.913     3_TB\n",
      "Taunus-2000      35010        11.020      2_B\n",
      "Rancho           39450        14.113     3_TB\n",
      "Mazda-9295       27900        13.193      1_M\n",
      "Opel-Rekord      32700        11.200      2_B\n",
      "Lada-1300        22100        14.044      1_M\n"
     ]
    }
   ],
   "source": [
    "#importation des variables supplémentaires\n",
    "varSupp = pandas.read_excel(\"exercice.xlsx\",sheet_name=2,header=0,index_col=0)\n",
    "print(varSupp)"
   ]
  },
  {
   "cell_type": "code",
   "execution_count": 86,
   "metadata": {},
   "outputs": [
    {
     "name": "stdout",
     "output_type": "stream",
     "text": [
      "[[3.0570e+04 1.1013e+01]\n",
      " [3.9990e+04 1.3059e+01]\n",
      " [2.9600e+04 1.5441e+01]\n",
      " [2.8250e+04 1.5763e+01]\n",
      " [3.4900e+04 1.1276e+01]\n",
      " [3.5480e+04 1.3171e+01]\n",
      " [3.2300e+04 1.4684e+01]\n",
      " [3.2000e+04 1.8364e+01]\n",
      " [4.7700e+04 1.0313e+01]\n",
      " [2.6540e+04 1.4818e+01]\n",
      " [4.2395e+04 9.7250e+00]\n",
      " [3.3990e+04 1.4146e+01]\n",
      " [4.3980e+04 1.1913e+01]\n",
      " [3.5010e+04 1.1020e+01]\n",
      " [3.9450e+04 1.4113e+01]\n",
      " [2.7900e+04 1.3193e+01]\n",
      " [3.2700e+04 1.1200e+01]\n",
      " [2.2100e+04 1.4044e+01]]\n"
     ]
    }
   ],
   "source": [
    "#variables supplémentaires quanti\n",
    "vsQuanti = varSupp.iloc[:,:2].values\n",
    "print(vsQuanti)\n"
   ]
  },
  {
   "cell_type": "code",
   "execution_count": 87,
   "metadata": {},
   "outputs": [
    {
     "name": "stdout",
     "output_type": "stream",
     "text": [
      "[[ 0.77247524  0.08670844 -0.13389277 -0.22582891 -0.15944978 -0.10254878]\n",
      " [-0.58903133 -0.67252871 -0.15019774  0.21363857  0.10163937  0.29003495]]\n"
     ]
    }
   ],
   "source": [
    "#corrélation avec les axes factoriels\n",
    "corSupp = numpy.zeros((vsQuanti.shape[1],p))\n",
    "for k in range(p):\n",
    "    for j in range(vsQuanti.shape[1]):\n",
    "        corSupp[j,k] = numpy.corrcoef(vsQuanti[:,j],coord[:,k])[0,1]\n",
    "\n",
    "#affichage des corrélations avec les axes\n",
    "print(corSupp)\n"
   ]
  },
  {
   "cell_type": "code",
   "execution_count": 88,
   "metadata": {},
   "outputs": [
    {
     "data": {
      "image/png": "[encoded data removed]",
      "text/plain": [
       "<Figure size 576x576 with 1 Axes>"
      ]
     },
     "metadata": {
      "needs_background": "light"
     },
     "output_type": "display_data"
    }
   ],
   "source": [
    "#cercle des corrélations avec les var. supp\n",
    "fig, axes = plt.subplots(figsize=(8,8))\n",
    "axes.set_xlim(-1,1)\n",
    "axes.set_ylim(-1,1)\n",
    "#variables actives\n",
    "for j in range(p):\n",
    "    plt.annotate(X.columns[j],(corvar[j,0],corvar[j,1]))\n",
    "\n",
    "#variables illustratives\n",
    "for j in range(vsQuanti.shape[1]):\n",
    "    plt.annotate(varSupp.columns[j],(corSupp[j,0],corSupp[j,1]),color='g')\n",
    "\n",
    "#ajouter les axes\n",
    "plt.plot([-1,1],[0,0],color='silver',linestyle='-',linewidth=1)\n",
    "plt.plot([0,0],[-1,1],color='silver',linestyle='-',linewidth=1)\n",
    "#ajouter un cercle\n",
    "cercle = plt.Circle((0,0),1,color='blue',fill=False)\n",
    "axes.add_artist(cercle)\n",
    "#affichage\n",
    "plt.show()\n"
   ]
  },
  {
   "cell_type": "code",
   "execution_count": 89,
   "metadata": {},
   "outputs": [
    {
     "name": "stdout",
     "output_type": "stream",
     "text": [
      "Modele\n",
      "Alfa                2_B\n",
      "Audi100            3_TB\n",
      "Simca1300           1_M\n",
      "Citroen GS Club     1_M\n",
      "Fiat 132            2_B\n",
      "Lancia Beta        3_TB\n",
      "Peugeot 504         2_B\n",
      "Renault 16 TL       2_B\n",
      "Renault 30         3_TB\n",
      "Tooyta Corolla      1_M\n",
      "Alfetta-1.66       3_TB\n",
      "Princess-1800       2_B\n",
      "Datsun-200L        3_TB\n",
      "Taunus-2000         2_B\n",
      "Rancho             3_TB\n",
      "Mazda-9295          1_M\n",
      "Opel-Rekord         2_B\n",
      "Lada-1300           1_M\n",
      "Name: Finition, dtype: object\n"
     ]
    }
   ],
   "source": [
    "#traitement de var. quali supplémentaire\n",
    "vsQuali = varSupp.iloc[:,2]\n",
    "print(vsQuali)\n"
   ]
  },
  {
   "cell_type": "code",
   "execution_count": 90,
   "metadata": {},
   "outputs": [
    {
     "name": "stdout",
     "output_type": "stream",
     "text": [
      "['1_M' '2_B' '3_TB']\n"
     ]
    }
   ],
   "source": [
    "#modalités de la variable qualitative\n",
    "modalites = numpy.unique(vsQuali)\n",
    "print(modalites)\n"
   ]
  },
  {
   "cell_type": "code",
   "execution_count": 91,
   "metadata": {},
   "outputs": [
    {
     "data": {
      "image/png": "[encoded data removed]",
      "text/plain": [
       "<Figure size 864x864 with 1 Axes>"
      ]
     },
     "metadata": {
      "needs_background": "light"
     },
     "output_type": "display_data"
    }
   ],
   "source": [
    "#liste des couleurs\n",
    "couleurs = ['r','g','b']\n",
    "#faire un graphique en coloriant les points\n",
    "fig, axes = plt.subplots(figsize=(12,12))\n",
    "axes.set_xlim(-6,6)\n",
    "axes.set_ylim(-6,6)\n",
    "#pour chaque modalité de la var. illustrative\n",
    "for c in range(len(modalites)):\n",
    " #numéro des individus concernés\n",
    " numero = numpy.where(vsQuali == modalites[c])\n",
    " #les passer en revue pour affichage\n",
    " for i in numero[0]:\n",
    "        plt.annotate(X.index[i],(coord[i,0],coord[i,1]),color=couleurs[c])\n",
    "\n",
    "#ajouter les axes\n",
    "plt.plot([-6,6],[0,0],color='silver',linestyle='-',linewidth=1)\n",
    "plt.plot([0,0],[-6,6],color='silver',linestyle='-',linewidth=1)\n",
    "#affichage\n",
    "plt.show()\n"
   ]
  },
  {
   "cell_type": "code",
   "execution_count": 92,
   "metadata": {},
   "outputs": [
    {
     "name": "stdout",
     "output_type": "stream",
     "text": [
      "                F1        F2\n",
      "Finition                    \n",
      "1_M      -2.000355 -0.022579\n",
      "2_B       0.235313  0.045271\n",
      "3_TB      1.392430 -0.034001\n"
     ]
    }
   ],
   "source": [
    "#structure intermédiaire\n",
    "df = pandas.DataFrame({'Finition':vsQuali,'F1':coord[:,0],'F2':coord[:,1]})\n",
    "#puis calculer les moyennes conditionnelles\n",
    "print(df.pivot_table(index='Finition',values=['F1','F2'],aggfunc=pandas.Series.mean))"
   ]
  },
  {
   "cell_type": "code",
   "execution_count": null,
   "metadata": {},
   "outputs": [],
   "source": []
  },
  {
   "cell_type": "code",
   "execution_count": null,
   "metadata": {},
   "outputs": [],
   "source": []
  },
  {
   "cell_type": "code",
   "execution_count": null,
   "metadata": {},
   "outputs": [],
   "source": []
  }
 ],
 "metadata": {
  "kernelspec": {
   "display_name": "Python 3",
   "language": "python",
   "name": "python3"
  },
  "language_info": {
   "codemirror_mode": {
    "name": "ipython",
    "version": 3
   },
   "file_extension": ".py",
   "mimetype": "text/x-python",
   "name": "python",
   "nbconvert_exporter": "python",
   "pygments_lexer": "ipython3",
   "version": "3.7.1"
  }
 },
 "nbformat": 4,
 "nbformat_minor": 2
}
